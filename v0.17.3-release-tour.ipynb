{
 "cells": [
  {
   "cell_type": "code",
   "execution_count": null,
   "metadata": {},
   "outputs": [],
   "source": [
    "from manim import *"
   ]
  },
  {
   "cell_type": "code",
   "execution_count": null,
   "metadata": {},
   "outputs": [],
   "source": [
    "config.verbosity = \"WARNING\"\n",
    "config.media_width = \"80%\""
   ]
  },
  {
   "cell_type": "code",
   "execution_count": null,
   "metadata": {},
   "outputs": [],
   "source": [
    "%%manim -qm DiGraphExample\n",
    "\n",
    "class DiGraphExample(Scene):\n",
    "    def construct(self):\n",
    "        D = DiGraph(\n",
    "            [0, 1, 2, 3, 4],\n",
    "            [\n",
    "                (0, 1), (1, 2), (2, 3), (3, 0),\n",
    "                (1, 3), (2, 0), (2, 4), (4, 3),\n",
    "            ],\n",
    "            layout={\n",
    "                0: 2*LEFT + 2*DOWN,\n",
    "                1: 2*RIGHT + 2*DOWN,\n",
    "                2: 2*RIGHT + 2*UP,\n",
    "                3: 2*LEFT + 2*UP,\n",
    "                4: 4*UP,\n",
    "            },\n",
    "            labels=True,\n",
    "            edge_config={\n",
    "                \"tip_config\": {\"tip_shape\": StealthTip},\n",
    "            }\n",
    "        ).center()\n",
    "        self.play(Create(D))\n",
    "        self.wait()\n",
    "        self.play(D.animate.change_layout('circular'))\n",
    "        self.wait()"
   ]
  },
  {
   "cell_type": "code",
   "execution_count": null,
   "metadata": {},
   "outputs": [],
   "source": [
    "%%manim -qm CustomAxes\n",
    "\n",
    "class CustomAxes(Scene):\n",
    "    def construct(self):\n",
    "        ax = Axes(\n",
    "            x_range=(0, 7),\n",
    "            y_range=(-1, 1),\n",
    "            axis_config={\"tip_shape\": StealthTip}\n",
    "        )\n",
    "        p = ax.plot_line_graph(\n",
    "            x_values=np.linspace(0, 7, 140),\n",
    "            y_values=np.cumsum(np.random.normal(0, 0.05, 140)),\n",
    "            add_vertex_dots=False,\n",
    "        ).set(color=PURPLE_D)\n",
    "        self.add(ax, p)"
   ]
  },
  {
   "cell_type": "code",
   "execution_count": null,
   "metadata": {},
   "outputs": [],
   "source": [
    "%%manim -qm RoundedPolygrams\n",
    "\n",
    "class RoundedPolygrams(Scene):\n",
    "    def construct(self):\n",
    "        st1 = Star().scale(2).round_corners((0.4, 0.1))\n",
    "        st2 = Star().scale(2).round_corners((0.1, 0.4))\n",
    "        stars = VGroup(st1, st2).arrange(DOWN, buff=1)\n",
    "        poly = RegularPolygon(4, color=MAROON, fill_opacity=0.25).scale(2)\n",
    "        poly = poly.round_corners([0.1, 0.25, 0.5, 1])\n",
    "        VGroup(stars, poly).arrange(RIGHT, buff=2)\n",
    "        self.add(stars, poly)"
   ]
  },
  {
   "cell_type": "code",
   "execution_count": null,
   "metadata": {},
   "outputs": [],
   "source": [
    "%%manim -qm TexOpacityExample\n",
    "\n",
    "class TexOpacityExample(Scene):\n",
    "    def construct(self):\n",
    "        equation = MathTex(\n",
    "            r\"\\Gamma(1 - z) \\Gamma(z) = \\frac{\\pi}{\\sin \\pi z}\",\n",
    "            substrings_to_isolate=[\"z\"],\n",
    "        ).scale(2)\n",
    "        self.play(Write(equation))\n",
    "        self.wait()\n",
    "        equation.save_state()\n",
    "        self.play(\n",
    "            equation.animate.set_opacity_by_tex(\"z\", opacity=1, remaining_opacity=0.25)\n",
    "        )\n",
    "        self.wait()\n",
    "        self.play(Restore(equation))\n",
    "        self.wait()\n"
   ]
  },
  {
   "cell_type": "code",
   "execution_count": null,
   "metadata": {},
   "outputs": [],
   "source": [
    "%%manim -qm CircleInGrid\n",
    "\n",
    "class CircleInGrid(Scene):\n",
    "    def construct(self):\n",
    "        dots = VGroup(*[\n",
    "            Dot() for _ in range(16*9)\n",
    "        ]).arrange_in_grid(9, 16, buff=1)\n",
    "        self.add(dots)\n",
    "\n",
    "        growing_circle = Circle(0.1, color=PURPLE_D, fill_opacity=0.25).shift(0.1*LEFT + 0.3*UP)\n",
    "        self.add(growing_circle)\n",
    "        growing_circle.add_updater(lambda c, dt: c.scale_to_fit_width(c.width + dt))\n",
    "\n",
    "        def number_of_dots_in_circle():\n",
    "            return len([\n",
    "                dot for dot in dots\n",
    "                if np.linalg.norm(dot.get_center() - growing_circle.get_center()) < growing_circle.width/2\n",
    "            ])\n",
    "        \n",
    "        for _ in range(15):\n",
    "            dots_inside = number_of_dots_in_circle()\n",
    "            self.wait_until(lambda: number_of_dots_in_circle() != dots_inside)\n",
    "            growing_circle.suspend_updating()\n",
    "            self.wait(0.5)\n",
    "            growing_circle.resume_updating()"
   ]
  }
 ],
 "metadata": {
  "kernelspec": {
   "display_name": "manim-jRHFv4qq-py3.10",
   "language": "python",
   "name": "python3"
  },
  "language_info": {
   "codemirror_mode": {
    "name": "ipython",
    "version": 3
   },
   "file_extension": ".py",
   "mimetype": "text/x-python",
   "name": "python",
   "nbconvert_exporter": "python",
   "pygments_lexer": "ipython3",
   "version": "3.10.6"
  },
  "orig_nbformat": 4
 },
 "nbformat": 4,
 "nbformat_minor": 2
}
