{
 "cells": [
  {
   "cell_type": "markdown",
   "id": "372c7b8d",
   "metadata": {},
   "source": [
    "## Mathematical Animations WITH EASE | Ep. 04: Updaters\n",
    "\n",
    "This notebook contains the examples discussed in [this video](https://youtu.be/vUIfNN6Bs_4). The cells below contain the final state of the corresponding scene from the video. Feel free to modify the code below and play around, your changes are only local and just visible to you. To add some more new cells, you can use the \"+\" icon above.\n",
    "\n",
    "To run cells, click on them so that they are in focus, then either the \"Run\" button above, or hit `<Shift + Enter>`."
   ]
  },
  {
   "cell_type": "code",
   "execution_count": null,
   "id": "ea98e0c1",
   "metadata": {},
   "outputs": [],
   "source": [
    "from manim import *"
   ]
  },
  {
   "cell_type": "markdown",
   "id": "7144d1c4",
   "metadata": {},
   "source": [
    "These are some useful basic settings for Jupyter notebooks. You can use them by executing the cell, or just skip them."
   ]
  },
  {
   "cell_type": "code",
   "execution_count": null,
   "id": "da3c997e",
   "metadata": {},
   "outputs": [],
   "source": [
    "config.media_width = \"80%\"\n",
    "config.verbosity = \"WARNING\""
   ]
  },
  {
   "cell_type": "markdown",
   "id": "cfaae641",
   "metadata": {},
   "source": [
    "#### Examples using Updater Functions"
   ]
  },
  {
   "cell_type": "code",
   "execution_count": null,
   "id": "17382a73",
   "metadata": {},
   "outputs": [],
   "source": [
    "%%manim -qm MovingLabel\n",
    "\n",
    "class MovingLabel(Scene):\n",
    "    def construct(self):\n",
    "        blue_dot = Dot(color=BLUE)\n",
    "        dot_label = Text(\"Hello dot!\").next_to(blue_dot, UP)\n",
    "        dot_label.add_updater(\n",
    "            lambda mobject: mobject.next_to(blue_dot, UP)\n",
    "        )\n",
    "        self.add(blue_dot, dot_label)\n",
    "        self.play(blue_dot.animate.shift(RIGHT))\n",
    "        self.play(blue_dot.animate.scale(10))\n",
    "        self.play(blue_dot.animate.move_to([-2, -2, 0]))"
   ]
  },
  {
   "cell_type": "code",
   "execution_count": null,
   "id": "df50ef97",
   "metadata": {},
   "outputs": [],
   "source": [
    "%%manim -qm --disable_caching AllUpdaterTypes\n",
    "\n",
    "class AllUpdaterTypes(Scene):\n",
    "    def construct(self):\n",
    "        red_dot = Dot(color=RED).shift(LEFT)\n",
    "        pointer = Arrow(ORIGIN, RIGHT).next_to(red_dot, LEFT)\n",
    "        pointer.add_updater( # place arrow left of dot\n",
    "            lambda mob: mob.next_to(red_dot, LEFT)\n",
    "        )\n",
    "        \n",
    "        def shifter(mob, dt): # make dot move 2 units RIGHT/sec\n",
    "            mob.shift(2*dt*RIGHT)\n",
    "        red_dot.add_updater(shifter)\n",
    "        \n",
    "        def scene_scaler(dt): # scale mobjects depending on distance to origin\n",
    "            for mob in self.mobjects:\n",
    "                mob.set(width=2/(1 + np.linalg.norm(mob.get_center())))\n",
    "        self.add_updater(scene_scaler)\n",
    "        \n",
    "        self.add(red_dot, pointer)\n",
    "        # scene has to update initially to fix first frame:\n",
    "        # first mobject updaters are called, then scene updaters\n",
    "        self.update_self(0)\n",
    "        self.wait(5)\n",
    "        "
   ]
  },
  {
   "cell_type": "markdown",
   "id": "4ca22e6a",
   "metadata": {},
   "source": [
    "#### Combining Updater Functions and Animations"
   ]
  },
  {
   "cell_type": "code",
   "execution_count": null,
   "id": "b0c548a9",
   "metadata": {},
   "outputs": [],
   "source": [
    "%%manim -qm --disable_caching UpdaterAndAnimation\n",
    "\n",
    "class UpdaterAndAnimation(Scene):\n",
    "    def construct(self):\n",
    "        red_dot = Dot(color=RED).shift(LEFT)\n",
    "        rotating_square = Square()\n",
    "        rotating_square.add_updater(lambda mob, dt: mob.rotate(dt*PI))\n",
    "        \n",
    "        def shifter(mob, dt): # make dot move 2 units RIGHT/sec\n",
    "            mob.shift(2*dt*RIGHT)\n",
    "        red_dot.add_updater(shifter)\n",
    "        \n",
    "        self.add(red_dot, rotating_square)\n",
    "        self.wait(1)\n",
    "        red_dot.suspend_updating()\n",
    "        self.wait(1)\n",
    "        self.play(\n",
    "            red_dot.animate.shift(UP),\n",
    "            rotating_square.animate.move_to([-2, -2, 0])\n",
    "        )\n",
    "        self.wait(1)"
   ]
  },
  {
   "cell_type": "markdown",
   "id": "2d66d8e3",
   "metadata": {},
   "source": [
    "#### `ValueTracker`"
   ]
  },
  {
   "cell_type": "code",
   "execution_count": null,
   "id": "acd44ab3",
   "metadata": {},
   "outputs": [],
   "source": [
    "%%manim -qm ValueTrackerMove\n",
    "\n",
    "class ValueTrackerMove(Scene):\n",
    "    def construct(self):\n",
    "        line = NumberLine(x_range=[-5, 5])\n",
    "        position = ValueTracker(0)\n",
    "        pointer = Vector(DOWN)\n",
    "        pointer.add_updater(\n",
    "            lambda mob: mob.next_to(\n",
    "                line.number_to_point(position.get_value()), UP\n",
    "            )\n",
    "        )\n",
    "        pointer.update()\n",
    "        self.add(line, pointer)\n",
    "        self.wait()\n",
    "        self.play(position.animate.set_value(4))\n",
    "        self.play(position.animate.set_value(-2))"
   ]
  },
  {
   "cell_type": "code",
   "execution_count": null,
   "id": "b40dad24",
   "metadata": {},
   "outputs": [],
   "source": [
    "%%manim -qm ValueTrackerPlot\n",
    "\n",
    "class ValueTrackerPlot(Scene):\n",
    "    def construct(self):\n",
    "        a = ValueTracker(1)\n",
    "        ax = Axes(x_range=[-2, 2, 1], y_range=[-8.5, 8.5, 1], x_length=4, y_length=6)\n",
    "        parabola = ax.plot(lambda x: a.get_value() * x**2, color=RED)\n",
    "        parabola.add_updater(\n",
    "            lambda mob: mob.become(ax.plot(lambda x: a.get_value() * x**2, color=RED))\n",
    "        )\n",
    "        a_number = DecimalNumber(\n",
    "            a.get_value(),\n",
    "            color=RED,\n",
    "            num_decimal_places=3,\n",
    "            show_ellipsis=True\n",
    "        )\n",
    "        a_number.add_updater(\n",
    "            lambda mob: mob.set_value(a.get_value()).next_to(parabola, RIGHT)\n",
    "        )\n",
    "        self.add(ax, parabola, a_number)\n",
    "        self.play(a.animate.set_value(2))\n",
    "        self.play(a.animate.set_value(-2))\n",
    "        self.play(a.animate.set_value(1))"
   ]
  },
  {
   "cell_type": "code",
   "execution_count": null,
   "id": "bc5e82da",
   "metadata": {},
   "outputs": [],
   "source": []
  }
 ],
 "metadata": {
  "interpreter": {
   "hash": "da84832ebb0d9f15962c004e99a603d020b29d898fa295675ba4ce07c983548c"
  },
  "kernelspec": {
   "display_name": "Python 3 (ipykernel)",
   "language": "python",
   "name": "python3"
  },
  "language_info": {
   "codemirror_mode": {
    "name": "ipython",
    "version": 3
   },
   "file_extension": ".py",
   "mimetype": "text/x-python",
   "name": "python",
   "nbconvert_exporter": "python",
   "pygments_lexer": "ipython3",
   "version": "3.9.10"
  }
 },
 "nbformat": 4,
 "nbformat_minor": 5
}
