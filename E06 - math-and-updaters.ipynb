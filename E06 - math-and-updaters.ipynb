{
 "cells": [
  {
   "cell_type": "markdown",
   "id": "8211288d",
   "metadata": {},
   "source": [
    "## Mathematical Animations WITH EASE | Ep. 06: Useful Math and More Updaters\n",
    "\n",
    "This notebook contains the examples discussed in [this video](https://youtu.be/wiiglFP5c-M). The cells below contain the final state of the corresponding scene from the video. Feel free to modify the code below and play around, your changes are only local and just visible to you. To add some more new cells, you can use the \"+\" icon above.\n",
    "\n",
    "To run cells, click on them so that they are in focus, then either the \"Run\" button above, or hit `<Shift + Enter>`."
   ]
  },
  {
   "cell_type": "code",
   "execution_count": null,
   "id": "54213abd",
   "metadata": {},
   "outputs": [],
   "source": [
    "from manim import *\n",
    "# changed with v0.18.0: we no longer need the colour module\n",
    "# and use our own ManimColor class instead.\n",
    "from manim import ManimColor as Color\n",
    "import random"
   ]
  },
  {
   "cell_type": "markdown",
   "id": "6844ed32",
   "metadata": {},
   "source": [
    "These are some useful basic settings for Jupyter notebooks. You can use them by executing the cell, or just skip them."
   ]
  },
  {
   "cell_type": "code",
   "execution_count": null,
   "id": "a35381fa",
   "metadata": {},
   "outputs": [],
   "source": [
    "config.media_width = \"80%\"\n",
    "config.verbosity = \"WARNING\""
   ]
  },
  {
   "cell_type": "code",
   "execution_count": null,
   "id": "5342d7a3",
   "metadata": {},
   "outputs": [],
   "source": [
    "%%manim -qm SweepingLine\n",
    "\n",
    "class SweepingLine(Scene):\n",
    "    def construct(self):\n",
    "        growing_circle = Circle(radius=0.001)\n",
    "\n",
    "        moving_line = Line([-7, -5, 0], [-6, 5, 0])\n",
    "        moving_line.normal_vector = moving_line.copy().rotate(90*DEGREES).get_vector()\n",
    "\n",
    "        def opacity_updater(obj):\n",
    "            if (  # check whether dot is inside circle\n",
    "                sum((growing_circle.points[0] - growing_circle.get_center())**2)\n",
    "                >= sum((obj.get_center() - growing_circle.get_center())**2)\n",
    "                #  round(  # more general winding number approach!\n",
    "                #      get_winding_number(growing_circle.get_anchors() - obj.get_center())\n",
    "                #  ) > 0\n",
    "            ):\n",
    "                obj.set_fill(BLUE, opacity=1)\n",
    "                obj.clear_updaters()  # removes opacity_updater, ...\n",
    "                obj.add_updater(color_updater)  # and attaches the color_updater function\n",
    "                self.add_sound(\"assets/click.wav\")\n",
    "\n",
    "        def color_updater(obj):\n",
    "            if (  # check whether point is *right* of the line\n",
    "                np.dot(obj.get_center(), moving_line.normal_vector)\n",
    "                < np.dot(moving_line.get_start(), moving_line.normal_vector)\n",
    "            ):\n",
    "                if obj.color != Color(BLUE):\n",
    "                    obj.set_color(BLUE)\n",
    "                    self.add_sound(\"assets/click.wav\")\n",
    "            else:  # otherwise point is *left* of the line\n",
    "                if obj.color != Color(YELLOW):\n",
    "                    obj.set_color(YELLOW)\n",
    "                    self.add_sound(\"assets/click.wav\")\n",
    "\n",
    "        self.add(growing_circle)\n",
    "\n",
    "        for _ in range(30):\n",
    "            p = Dot(fill_opacity=0.6)\n",
    "            p.move_to([random.uniform(-6, 6), random.uniform(-4, 4), 0])\n",
    "            p.add_updater(opacity_updater)\n",
    "            self.add(p)\n",
    "\n",
    "        self.play(\n",
    "            growing_circle.animate.scale_to_fit_width(1.5*config.frame_width),\n",
    "            run_time=5\n",
    "        )\n",
    "        self.play(Create(moving_line))\n",
    "        self.play(moving_line.animate.shift(14*RIGHT), run_time=5)\n",
    "        self.play(moving_line.animate.shift(14*LEFT), run_time=5)"
   ]
  },
  {
   "cell_type": "code",
   "execution_count": null,
   "id": "3e9a3cab",
   "metadata": {},
   "outputs": [],
   "source": []
  },
  {
   "cell_type": "markdown",
   "id": "673df678",
   "metadata": {},
   "source": [
    "Bonus scene: de Casteljau's Bézier curve construction (this is not written in a particularly nice way, the implementation could be made much more compact)."
   ]
  },
  {
   "cell_type": "code",
   "execution_count": null,
   "id": "d8f4b498",
   "metadata": {},
   "outputs": [],
   "source": [
    "%%manim -qm DeCasteljau\n",
    "\n",
    "class DeCasteljau(Scene):\n",
    "    def construct(self):\n",
    "        self.camera.background_color = '#455D3E'\n",
    "        a1 = np.array([-3, -2, 0])\n",
    "        h1 = np.array([-3, 0, 0])\n",
    "        h2 = np.array([3, 0, 0])\n",
    "        a2 = np.array([3, 2, 0])\n",
    "\n",
    "        t = ValueTracker(0.001)\n",
    "        self.add(t)\n",
    "\n",
    "        d01 = Cross(scale_factor=0.2).move_to(a1)\n",
    "        d02 = Dot(color=ORANGE).move_to(h1)\n",
    "        d03 = Dot(color=ORANGE).move_to(h2)\n",
    "        d04 = Cross(scale_factor=0.2).move_to(a2)\n",
    "\n",
    "        d11 = Dot(color=GRAY).add_updater(\n",
    "            lambda mob: mob.move_to(\n",
    "                (1- t.get_value()) * d01.get_center() + t.get_value() * d02.get_center()\n",
    "            )\n",
    "        )\n",
    "        d12 = Dot(color=GRAY).add_updater(\n",
    "            lambda mob: mob.move_to((1- t.get_value()) * d02.get_center() + t.get_value() * d03.get_center())\n",
    "        )\n",
    "        d13 = Dot(color=GRAY).add_updater(\n",
    "            lambda mob: mob.move_to((1- t.get_value()) * d03.get_center() + t.get_value() * d04.get_center())\n",
    "        )\n",
    "\n",
    "        d21 = Dot(color=GRAY).add_updater(\n",
    "            lambda mob: mob.move_to((1- t.get_value()) * d11.get_center() + t.get_value() * d12.get_center())\n",
    "        )\n",
    "        d22 = Dot(color=GRAY).add_updater(\n",
    "            lambda mob: mob.move_to((1- t.get_value()) * d12.get_center() + t.get_value() * d13.get_center())\n",
    "        )\n",
    "\n",
    "        d31 = Dot(color=RED).add_updater(\n",
    "            lambda mob: mob.move_to((1- t.get_value()) * d21.get_center() + t.get_value() * d22.get_center())\n",
    "        )\n",
    "\n",
    "        static_lines = [\n",
    "            Line(d01.get_center(), d02, color=ORANGE),\n",
    "            Line(d02, d03),\n",
    "            Line(d03, d04.get_center(), color=ORANGE)\n",
    "        ]\n",
    "\n",
    "        dynamic_lines = [\n",
    "            always_redraw(lambda a=a, b=b: Line(a.get_center(), b.get_center(), color=LIGHT_GRAY))\n",
    "            for a, b in [\n",
    "                (d11, d12), (d12, d13), (d21, d22)\n",
    "            ]\n",
    "        ]\n",
    "        self.add(*dynamic_lines, *static_lines, d01, d02, d03, d04, d11, d12, d13, d21, d22, d31)\n",
    "        self.add(\n",
    "            TracedPath(lambda: d31.get_center(), stroke_color=RED)\n",
    "        )\n",
    "\n",
    "        self.wait(0.5)\n",
    "        self.play(t.animate(run_time=5).set_value(0.999))\n",
    "        self.wait(0.5)\n",
    "        self.play(FadeOut(VGroup(\n",
    "            *dynamic_lines, *static_lines, d02, d03, d11, d12, d13, d21, d22\n",
    "        )))\n",
    "        self.wait()"
   ]
  },
  {
   "cell_type": "code",
   "execution_count": null,
   "id": "f4e08a93",
   "metadata": {},
   "outputs": [],
   "source": []
  }
 ],
 "metadata": {
  "kernelspec": {
   "display_name": "Python 3 (ipykernel)",
   "language": "python",
   "name": "python3"
  },
  "language_info": {
   "codemirror_mode": {
    "name": "ipython",
    "version": 3
   },
   "file_extension": ".py",
   "mimetype": "text/x-python",
   "name": "python",
   "nbconvert_exporter": "python",
   "pygments_lexer": "ipython3",
   "version": "3.9.12"
  }
 },
 "nbformat": 4,
 "nbformat_minor": 5
}
