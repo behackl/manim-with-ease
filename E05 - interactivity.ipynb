{
 "cells": [
  {
   "cell_type": "markdown",
   "id": "372c7b8d",
   "metadata": {},
   "source": [
    "## Mathematical Animations WITH EASE | Ep. 05: Interactivity\n",
    "\n",
    "This notebook contains the examples discussed in [this video](https://youtu.be/KeXBLPC1tns). The cells below contain the final state of the corresponding scene from the video. Feel free to modify the code below and play around, your changes are only local and just visible to you. To add some more new cells, you can use the \"+\" icon above.\n",
    "\n",
    "**IMPORTANT NOTE:** all cells containing the `interactive_embed` method **will not run properly** in the online environment. Copy the code to a local file and use the command line interface of your local installation, `manim --renderer=opengl ...`, to experiment with interactivity.\n",
    "\n",
    "To run cells, click on them so that they are in focus, then either the \"Run\" button above, or hit `<Shift + Enter>`."
   ]
  },
  {
   "cell_type": "code",
   "execution_count": null,
   "id": "ea98e0c1",
   "metadata": {},
   "outputs": [],
   "source": [
    "from manim import *\n",
    "from manim.opengl import *"
   ]
  },
  {
   "cell_type": "markdown",
   "id": "7144d1c4",
   "metadata": {},
   "source": [
    "These are some useful basic settings for Jupyter notebooks. You can use them by executing the cell, or just skip them."
   ]
  },
  {
   "cell_type": "code",
   "execution_count": null,
   "id": "da3c997e",
   "metadata": {},
   "outputs": [],
   "source": [
    "config.media_width = \"80%\"\n",
    "config.verbosity = \"WARNING\""
   ]
  },
  {
   "cell_type": "markdown",
   "id": "cfaae641",
   "metadata": {},
   "source": [
    "#### Basic demo of the OpenGL renderer"
   ]
  },
  {
   "cell_type": "code",
   "execution_count": null,
   "id": "17382a73",
   "metadata": {},
   "outputs": [],
   "source": [
    "%%manim -qm --renderer=opengl --write_to_movie OpenGLIntro\n",
    "\n",
    "class OpenGLIntro(Scene):\n",
    "    def construct(self):\n",
    "        hello_world = Tex(\"Hello World!\").scale(3)\n",
    "        self.play(Write(hello_world))\n",
    "        self.play(\n",
    "            self.camera.animate.set_euler_angles(\n",
    "                theta=-10*DEGREES,\n",
    "                phi=50*DEGREES\n",
    "            )\n",
    "        )\n",
    "        self.play(FadeOut(hello_world))\n",
    "        surface = OpenGLSurface(\n",
    "            lambda u, v: (u, v, u*np.sin(v) + v*np.cos(u)),\n",
    "            u_range=(-3, 3),\n",
    "            v_range=(-3, 3)\n",
    "        )\n",
    "        surface_mesh = OpenGLSurfaceMesh(surface)\n",
    "        self.play(Create(surface_mesh))\n",
    "        self.play(FadeTransform(surface_mesh, surface))\n",
    "        self.wait()\n",
    "        light = self.camera.light_source\n",
    "        self.play(light.animate.shift([0, 0, -20]))\n",
    "        self.play(light.animate.shift([0, 0, 10]))\n",
    "        self.play(self.camera.animate.set_euler_angles(theta=60*DEGREES))\n",
    "        \n",
    "        # self.interactive_embed()\n",
    "\n",
    "        # self.play(self.camera.animate.set_euler_angles(theta=0*DEGREES))\n",
    "        # self.play(FadeOut(surface, shift=np.array([0, 0, -2])))\n",
    "\n",
    "        # red_sphere = Sphere(color=RED)\n",
    "        # self.play(Create(red_sphere))\n",
    "        # self.play(red_sphere.animate.scale(3))\n",
    "\n",
    "        # sphere_mesh = OpenGLSurfaceMesh(red_sphere)\n",
    "        # play(Transform(red_sphere, sphere_mesh))  # graphics glitch :-)\n",
    "\n",
    "        # self.play(self.camera.animate.set_euler_angles(phi=0, theta=0))\n",
    "        "
   ]
  },
  {
   "cell_type": "markdown",
   "id": "4a9fa0f1",
   "metadata": {},
   "source": [
    "### Examples for keyboard interactivity"
   ]
  },
  {
   "cell_type": "code",
   "execution_count": null,
   "id": "bc5e82da",
   "metadata": {},
   "outputs": [],
   "source": [
    "%%manim -qm --renderer=opengl --write_to_movie InteractiveRadius\n",
    "\n",
    "class InteractiveRadius(Scene):\n",
    "    def construct(self):\n",
    "        plane = NumberPlane()\n",
    "        cursor_dot = Dot().move_to(3*RIGHT + 2*UP)\n",
    "        red_circle = Circle(\n",
    "            radius=np.linalg.norm(cursor_dot.get_center()),\n",
    "            color=RED\n",
    "        )\n",
    "        red_circle.add_updater(\n",
    "            lambda mob: mob.become(\n",
    "                Circle(\n",
    "                    radius=np.linalg.norm(cursor_dot.get_center()),\n",
    "                    color=RED\n",
    "                )\n",
    "            )\n",
    "        )\n",
    "        self.play(Create(plane), Create(red_circle), FadeIn(cursor_dot))\n",
    "        self.cursor_dot = cursor_dot\n",
    "        self.interactive_embed()  # not supported in online environment\n",
    "\n",
    "    def on_key_press(self, symbol, modifiers):\n",
    "        from pyglet.window import key as pyglet_key\n",
    "        if symbol == pyglet_key.G:\n",
    "            self.play(\n",
    "                self.cursor_dot.animate.move_to(self.mouse_point.get_center())\n",
    "            )\n",
    "        super().on_key_press(symbol, modifiers)"
   ]
  },
  {
   "cell_type": "code",
   "execution_count": null,
   "id": "af4797bf",
   "metadata": {},
   "outputs": [],
   "source": [
    "%%manim -qm --renderer=opengl --write_to_movie NewtonIteration\n",
    "\n",
    "class NewtonIteration(Scene):\n",
    "    def construct(self):\n",
    "        self.axes = Axes()\n",
    "        self.f = lambda x: (x+6) * (x+3) * x * (x-3) * (x-6) / 300\n",
    "        curve = self.axes.plot(self.f, color=RED)\n",
    "        self.cursor_dot = Dot(color=YELLOW)\n",
    "        self.play(Create(self.axes), Create(curve), FadeIn(self.cursor_dot))\n",
    "        self.interactive_embed()  # not supported in online environment\n",
    "\n",
    "    def on_key_press(self, symbol, modifiers):\n",
    "        from pyglet.window import key as pyglet_key\n",
    "        from scipy.misc import derivative\n",
    "        if symbol == pyglet_key.P:\n",
    "            x, y = self.axes.point_to_coords(self.mouse_point.get_center())\n",
    "            self.play(\n",
    "                self.cursor_dot.animate.move_to(self.axes.c2p(x, self.f(x)))\n",
    "            )\n",
    "\n",
    "        if symbol == pyglet_key.I:\n",
    "            x, y = self.axes.point_to_coords(self.cursor_dot.get_center())\n",
    "            # Newton iteration: x_new = x - f(x) / f'(x)\n",
    "            x_new = x - self.f(x) / derivative(self.f, x, dx=0.01)\n",
    "            curve_point = self.cursor_dot.get_center()\n",
    "            axes_point = self.axes.c2p(x_new, 0)\n",
    "            tangent = Line(\n",
    "                curve_point + (curve_point - axes_point)*0.25,\n",
    "                axes_point + (axes_point - curve_point)*0.25,\n",
    "                color=YELLOW,\n",
    "                stroke_width=2,\n",
    "            )\n",
    "            self.play(Create(tangent))\n",
    "            self.play(self.cursor_dot.animate.move_to(self.axes.c2p(x_new, 0)))\n",
    "            self.play(\n",
    "                self.cursor_dot.animate.move_to(self.axes.c2p(x_new, self.f(x_new))),\n",
    "                FadeOut(tangent)\n",
    "            )\n",
    "        \n",
    "        super().on_key_press(symbol, modifiers)"
   ]
  },
  {
   "cell_type": "code",
   "execution_count": null,
   "id": "96178f1c",
   "metadata": {},
   "outputs": [],
   "source": []
  }
 ],
 "metadata": {
  "interpreter": {
   "hash": "da84832ebb0d9f15962c004e99a603d020b29d898fa295675ba4ce07c983548c"
  },
  "kernelspec": {
   "display_name": "Python 3 (ipykernel)",
   "language": "python",
   "name": "python3"
  },
  "language_info": {
   "codemirror_mode": {
    "name": "ipython",
    "version": 3
   },
   "file_extension": ".py",
   "mimetype": "text/x-python",
   "name": "python",
   "nbconvert_exporter": "python",
   "pygments_lexer": "ipython3",
   "version": "3.9.10"
  }
 },
 "nbformat": 4,
 "nbformat_minor": 5
}
